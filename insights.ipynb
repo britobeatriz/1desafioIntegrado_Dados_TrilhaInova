{
  "nbformat": 4,
  "nbformat_minor": 0,
  "metadata": {
    "colab": {
      "name": "Desafio Integrado I.ipynb",
      "provenance": [],
      "collapsed_sections": []
    },
    "kernelspec": {
      "name": "python3",
      "display_name": "Python 3"
    },
    "language_info": {
      "name": "python"
    }
  },
  "cells": [
    {
      "cell_type": "markdown",
      "metadata": {
        "id": "mAYRzMvjQOB9"
      },
      "source": [
        "# Importando bibliotecas"
      ]
    },
    {
      "cell_type": "code",
      "metadata": {
        "id": "7azZarv7QJr0"
      },
      "source": [
        "import pandas as pd\n",
        "import seaborn as sns\n",
        "import matplotlib.pyplot as plt\n",
        "from scipy.stats import ranksums \n",
        "%matplotlib inline"
      ],
      "execution_count": null,
      "outputs": []
    },
    {
      "cell_type": "markdown",
      "metadata": {
        "id": "MOE-S9wNQeZY"
      },
      "source": [
        "# Acessando dados"
      ]
    },
    {
      "cell_type": "code",
      "metadata": {
        "id": "gasFmBGzQdqy"
      },
      "source": [
        "estadual = pd.read_csv('dados_rede_estadual.csv')"
      ],
      "execution_count": null,
      "outputs": []
    },
    {
      "cell_type": "code",
      "metadata": {
        "id": "76gMQNdLgnv3"
      },
      "source": [
        "privada = pd.read_csv('dados_rede_privada.csv')"
      ],
      "execution_count": null,
      "outputs": []
    },
    {
      "cell_type": "code",
      "metadata": {
        "id": "F44gAJUGiT4b"
      },
      "source": [
        "publica = pd.read_csv('dados_rede_publica.csv')"
      ],
      "execution_count": null,
      "outputs": []
    },
    {
      "cell_type": "code",
      "metadata": {
        "id": "X_PfjLJ3ibId"
      },
      "source": [
        "todos = pd.read_csv('dados_todas_as_redes.csv')"
      ],
      "execution_count": null,
      "outputs": []
    },
    {
      "cell_type": "markdown",
      "metadata": {
        "id": "j53F_V7hi_Mp"
      },
      "source": [
        "# Visualização Matrículas"
      ]
    },
    {
      "cell_type": "markdown",
      "metadata": {
        "id": "rcgakj6hS4NY"
      },
      "source": [
        "## Selecionando o indicador 'Matrículas'"
      ]
    },
    {
      "cell_type": "code",
      "metadata": {
        "id": "BdBBdo1rkSvZ"
      },
      "source": [
        "total_estadual = estadual.loc[0]\n",
        "total_privada = privada.loc[0]\n",
        "total_municipal = publica.loc[0]"
      ],
      "execution_count": null,
      "outputs": []
    },
    {
      "cell_type": "code",
      "metadata": {
        "id": "M2CwEwgZjZAt"
      },
      "source": [
        "df1 = pd.DataFrame(total_estadual)\n",
        "df2 = pd.DataFrame(total_privada)\n",
        "df3 = pd.DataFrame(total_municipal)"
      ],
      "execution_count": null,
      "outputs": []
    },
    {
      "cell_type": "code",
      "metadata": {
        "id": "t7XG07MhkaA9"
      },
      "source": [
        "frames = [df1, df2, df3]"
      ],
      "execution_count": null,
      "outputs": []
    },
    {
      "cell_type": "code",
      "metadata": {
        "id": "vqnw3hYrQi8Q"
      },
      "source": [
        "resultado_1 = pd.concat(frames)"
      ],
      "execution_count": null,
      "outputs": []
    },
    {
      "cell_type": "code",
      "metadata": {
        "id": "Xrodavy-LLy5"
      },
      "source": [
        "resultado_1.reset_index(level=0, inplace=True)"
      ],
      "execution_count": null,
      "outputs": []
    },
    {
      "cell_type": "code",
      "metadata": {
        "id": "4iQSUrYFRSwJ"
      },
      "source": [
        "resultado_1 = resultado_1.drop(resultado_1.index[[0, 1, 4, 5, 8, 9]])"
      ],
      "execution_count": null,
      "outputs": []
    },
    {
      "cell_type": "code",
      "metadata": {
        "id": "Z9jCviNnRTpd"
      },
      "source": [
        "resultado_1 = resultado_1.rename(columns={0:'Valores', 'index':'Tipo_escola'})"
      ],
      "execution_count": null,
      "outputs": []
    },
    {
      "cell_type": "code",
      "metadata": {
        "id": "3gFqPZ3mcVbN"
      },
      "source": [
        "resultado_1['Valores'] = resultado_1['Valores'].astype(int)"
      ],
      "execution_count": null,
      "outputs": []
    },
    {
      "cell_type": "markdown",
      "metadata": {
        "id": "L501zL2BNETf"
      },
      "source": [
        "## Plotando os gráficos"
      ]
    },
    {
      "cell_type": "code",
      "metadata": {
        "colab": {
          "base_uri": "https://localhost:8080/"
        },
        "id": "M4qXuiurXzWq",
        "outputId": "f4644801-a4e6-41e3-e899-e74dca37e602"
      },
      "source": [
        "ax = plt.figure(figsize=(12, 6))\n",
        "fig_1 = sns.barplot(x='Tipo_escola', y='Valores', data=resultado_1.sort_values('Valores', ascending=False), ci=False)\n",
        "for i in fig_1.patches:\n",
        "  fig_1.annotate(i.get_height(), (i.get_x() + i.get_width() / 2, i.get_height())\n",
        "  , ha='center', va='baseline', fontsize=12, color='black', xytext=(0,1), \n",
        "  textcoords='offset points')\n",
        "fig_1.set_title('Total de inscritos', fontsize= 18)\n",
        "ax=ax"
      ],
      "execution_count": null,
      "outputs": [
        {
          "output_type": "display_data",
          "data": {
            "image/png": "[encoded data removed]",
            "text/plain": [
              "<Figure size 864x432 with 1 Axes>"
            ]
          },
          "metadata": {
            "needs_background": "light"
          }
        }
      ]
    },
    {
      "cell_type": "code",
      "metadata": {
        "id": "9zBQRfs8wWYx"
      },
      "source": [
        "fig_1.get_figure().savefig('Figura_1.png')"
      ],
      "execution_count": null,
      "outputs": []
    },
    {
      "cell_type": "markdown",
      "metadata": {
        "id": "TMssIg51avoS"
      },
      "source": [
        "# Visualização distorção idade-série"
      ]
    },
    {
      "cell_type": "code",
      "metadata": {
        "id": "97vPEEDBaxk7"
      },
      "source": [
        "dist_estadual = estadual.loc[1]\n",
        "dist_municipal = publica.loc[1]\n",
        "dist_privada = privada.loc[1]"
      ],
      "execution_count": null,
      "outputs": []
    },
    {
      "cell_type": "code",
      "metadata": {
        "id": "DOdjkU2jbuv0"
      },
      "source": [
        "df4 = pd.DataFrame(dist_estadual)\n",
        "df5 = pd.DataFrame(dist_municipal)\n",
        "df6 = pd.DataFrame(dist_privada)"
      ],
      "execution_count": null,
      "outputs": []
    },
    {
      "cell_type": "code",
      "metadata": {
        "id": "Vkxvw1_udPQ-"
      },
      "source": [
        "frames_1 = [df4, df5, df6]\n",
        "resultado_2 = pd.concat(frames_1)\n",
        "resultado_2.reset_index(level=0, inplace=True)"
      ],
      "execution_count": null,
      "outputs": []
    },
    {
      "cell_type": "code",
      "metadata": {
        "id": "xYuQxxD2flUy"
      },
      "source": [
        "resultado_2 = resultado_2.drop(resultado_2.index[[0, 1, 4, 5, 8, 9]])"
      ],
      "execution_count": null,
      "outputs": []
    },
    {
      "cell_type": "code",
      "metadata": {
        "id": "WPPsIAdmf4L7"
      },
      "source": [
        "resultado_2 = resultado_2.rename(columns={1:'Valores(%)', 'index':'Tipo_escola'})"
      ],
      "execution_count": null,
      "outputs": []
    },
    {
      "cell_type": "code",
      "metadata": {
        "id": "8KX4JQ08htf5"
      },
      "source": [
        "def troca_sinal(num):\n",
        "  num = num.replace('%','').replace(',','.')\n",
        "  return num"
      ],
      "execution_count": null,
      "outputs": []
    },
    {
      "cell_type": "code",
      "metadata": {
        "id": "bOqe1QDugvdY"
      },
      "source": [
        "resultado_2['Valores(%)'] = resultado_2['Valores(%)'].apply(troca_sinal)"
      ],
      "execution_count": null,
      "outputs": []
    },
    {
      "cell_type": "code",
      "metadata": {
        "id": "8h3aO7pHi-fp"
      },
      "source": [
        "resultado_2['Valores(%)'] = resultado_2['Valores(%)'].astype(float)"
      ],
      "execution_count": null,
      "outputs": []
    },
    {
      "cell_type": "code",
      "metadata": {
        "colab": {
          "base_uri": "https://localhost:8080/"
        },
        "id": "cGsNyiqcjfJZ",
        "outputId": "8ee77869-4931-4c3e-c990-c19a7d252282"
      },
      "source": [
        "resultado_2.info()"
      ],
      "execution_count": null,
      "outputs": [
        {
          "output_type": "stream",
          "name": "stdout",
          "text": [
            "<class 'pandas.core.frame.DataFrame'>\n",
            "Int64Index: 6 entries, 2 to 11\n",
            "Data columns (total 2 columns):\n",
            " #   Column       Non-Null Count  Dtype  \n",
            "---  ------       --------------  -----  \n",
            " 0   Tipo_escola  6 non-null      object \n",
            " 1   Valores(%)   6 non-null      float64\n",
            "dtypes: float64(1), object(1)\n",
            "memory usage: 144.0+ bytes\n"
          ]
        }
      ]
    },
    {
      "cell_type": "markdown",
      "metadata": {
        "id": "4rprVHOEjlVq"
      },
      "source": [
        "## Plotando os gráficos"
      ]
    },
    {
      "cell_type": "code",
      "metadata": {
        "colab": {
          "base_uri": "https://localhost:8080/",
          "height": 410
        },
        "id": "P0Wwss_Xjf4D",
        "outputId": "8353ed66-d422-493d-efaf-59e0e9f300be"
      },
      "source": [
        "ax = plt.figure(figsize=(12, 6))\n",
        "fig_2 = sns.barplot(x='Tipo_escola', y='Valores(%)', data=resultado_2.sort_values('Valores(%)', ascending=False), ci=False)\n",
        "for i in fig_2.patches:\n",
        "  fig_2.annotate(i.get_height(), (i.get_x() + i.get_width() / 2, i.get_height())\n",
        "  , ha='center', va='baseline', fontsize=12, color='black', xytext=(0,1), \n",
        "  textcoords='offset points')\n",
        "fig_2.set_title('Distorção Idade-Serie', fontsize= 18)\n",
        "ax=ax"
      ],
      "execution_count": null,
      "outputs": [
        {
          "output_type": "display_data",
          "data": {
            "image/png": "[encoded data removed]",
            "text/plain": [
              "<Figure size 864x432 with 1 Axes>"
            ]
          },
          "metadata": {
            "needs_background": "light"
          }
        }
      ]
    },
    {
      "cell_type": "code",
      "metadata": {
        "id": "DDhUS6cakQVK"
      },
      "source": [
        "fig_2.get_figure().savefig('Figura_2.png')"
      ],
      "execution_count": null,
      "outputs": []
    },
    {
      "cell_type": "code",
      "metadata": {
        "id": "mmmJC7_jk6ZO"
      },
      "source": [
        ""
      ],
      "execution_count": null,
      "outputs": []
    },
    {
      "cell_type": "markdown",
      "metadata": {
        "id": "Ii9yh0mzpNDr"
      },
      "source": [
        "# AFD (Adequação da formação docente) total"
      ]
    },
    {
      "cell_type": "code",
      "metadata": {
        "id": "QUmAa9LhpQy5"
      },
      "source": [
        "afd_estadual = estadual.loc[5]\n",
        "afd_municipal = publica.loc[5]\n",
        "afd_privada = privada.loc[5]"
      ],
      "execution_count": null,
      "outputs": []
    },
    {
      "cell_type": "code",
      "metadata": {
        "id": "7Z9vBnEapw3z"
      },
      "source": [
        "df7 = pd.DataFrame(afd_estadual)\n",
        "df8 = pd.DataFrame(afd_municipal)\n",
        "df9 = pd.DataFrame(afd_privada)"
      ],
      "execution_count": null,
      "outputs": []
    },
    {
      "cell_type": "code",
      "metadata": {
        "id": "Ux-uxTq_p9Q6"
      },
      "source": [
        "frames_2 = [df7, df8, df9]\n",
        "resultado_3 = pd.concat(frames_2)\n",
        "resultado_3.reset_index(level=0, inplace=True)"
      ],
      "execution_count": null,
      "outputs": []
    },
    {
      "cell_type": "code",
      "metadata": {
        "id": "rZPUuCalqFkz"
      },
      "source": [
        "resultado_3 = resultado_3.drop(resultado_3.index[[0, 1, 4, 5, 8, 9]])\n"
      ],
      "execution_count": null,
      "outputs": []
    },
    {
      "cell_type": "code",
      "metadata": {
        "colab": {
          "base_uri": "https://localhost:8080/",
          "height": 235
        },
        "id": "_A0M8FEAqRd1",
        "outputId": "6234dfb4-1adb-4646-b3a7-9480f56825ea"
      },
      "source": [
        "resultado_3 = resultado_3.rename(columns={5:'Valores(%)', 'index':'Tipo_escola'})\n",
        "resultado_3['Valores(%)'] = resultado_3['Valores(%)'].apply(troca_sinal)\n",
        "resultado_3['Valores(%)'] = resultado_3['Valores(%)'].astype(float)\n",
        "resultado_3 = resultado_3.reset_index()\n",
        "resultado_3"
      ],
      "execution_count": null,
      "outputs": [
        {
          "output_type": "execute_result",
          "data": {
            "text/html": [
              "<div>\n",
              "<style scoped>\n",
              "    .dataframe tbody tr th:only-of-type {\n",
              "        vertical-align: middle;\n",
              "    }\n",
              "\n",
              "    .dataframe tbody tr th {\n",
              "        vertical-align: top;\n",
              "    }\n",
              "\n",
              "    .dataframe thead th {\n",
              "        text-align: right;\n",
              "    }\n",
              "</style>\n",
              "<table border=\"1\" class=\"dataframe\">\n",
              "  <thead>\n",
              "    <tr style=\"text-align: right;\">\n",
              "      <th></th>\n",
              "      <th>index</th>\n",
              "      <th>Tipo_escola</th>\n",
              "      <th>Valores(%)</th>\n",
              "    </tr>\n",
              "  </thead>\n",
              "  <tbody>\n",
              "    <tr>\n",
              "      <th>0</th>\n",
              "      <td>2</td>\n",
              "      <td>Urbana_estadual</td>\n",
              "      <td>57.3</td>\n",
              "    </tr>\n",
              "    <tr>\n",
              "      <th>1</th>\n",
              "      <td>3</td>\n",
              "      <td>Rural_estadual</td>\n",
              "      <td>38.7</td>\n",
              "    </tr>\n",
              "    <tr>\n",
              "      <th>2</th>\n",
              "      <td>6</td>\n",
              "      <td>Urbana_municipal</td>\n",
              "      <td>57.9</td>\n",
              "    </tr>\n",
              "    <tr>\n",
              "      <th>3</th>\n",
              "      <td>7</td>\n",
              "      <td>Rural_municipal</td>\n",
              "      <td>39.9</td>\n",
              "    </tr>\n",
              "    <tr>\n",
              "      <th>4</th>\n",
              "      <td>10</td>\n",
              "      <td>Urbana_privada</td>\n",
              "      <td>52.2</td>\n",
              "    </tr>\n",
              "    <tr>\n",
              "      <th>5</th>\n",
              "      <td>11</td>\n",
              "      <td>Rural_privada</td>\n",
              "      <td>34.8</td>\n",
              "    </tr>\n",
              "  </tbody>\n",
              "</table>\n",
              "</div>"
            ],
            "text/plain": [
              "   index       Tipo_escola  Valores(%)\n",
              "0      2   Urbana_estadual        57.3\n",
              "1      3    Rural_estadual        38.7\n",
              "2      6  Urbana_municipal        57.9\n",
              "3      7   Rural_municipal        39.9\n",
              "4     10    Urbana_privada        52.2\n",
              "5     11     Rural_privada        34.8"
            ]
          },
          "metadata": {},
          "execution_count": 81
        }
      ]
    },
    {
      "cell_type": "markdown",
      "metadata": {
        "id": "42TTB9GMrjsf"
      },
      "source": [
        "## Plotando os gráficos"
      ]
    },
    {
      "cell_type": "code",
      "metadata": {
        "colab": {
          "base_uri": "https://localhost:8080/"
        },
        "id": "kQNMIDfErjL2",
        "outputId": "a2dd1be1-5c63-47e2-ccc2-5ac7211dfa39"
      },
      "source": [
        "ax = plt.figure(figsize=(12, 6))\n",
        "fig_3 = sns.barplot(x='Tipo_escola', y='Valores(%)', data=resultado_3.sort_values('Valores(%)', ascending=False), ci=False)\n",
        "for i in fig_3.patches:\n",
        "  fig_3.annotate(i.get_height(), (i.get_x() + i.get_width() / 2, i.get_height())\n",
        "  , ha='center', va='baseline', fontsize=12, color='black', xytext=(0,1), \n",
        "  textcoords='offset points')\n",
        "fig_3.set_title('AFD Total', fontsize= 18)\n",
        "ax=ax"
      ],
      "execution_count": null,
      "outputs": [
        {
          "output_type": "display_data",
          "data": {
            "image/png": "[encoded data removed]",
            "text/plain": [
              "<Figure size 864x432 with 1 Axes>"
            ]
          },
          "metadata": {
            "needs_background": "light"
          }
        }
      ]
    },
    {
      "cell_type": "code",
      "metadata": {
        "id": "JRUDITjlrYLs"
      },
      "source": [
        "fig_3.get_figure().savefig('Figura_3.png')"
      ],
      "execution_count": null,
      "outputs": []
    },
    {
      "cell_type": "markdown",
      "metadata": {
        "id": "WcHtO3GMtPS1"
      },
      "source": [
        "# Escolas com acesso a internet"
      ]
    },
    {
      "cell_type": "markdown",
      "metadata": {
        "id": "l7lRKqfEoah_"
      },
      "source": [
        "## Para o Ensino"
      ]
    },
    {
      "cell_type": "code",
      "metadata": {
        "id": "LY0dqModq3k8"
      },
      "source": [
        "internet_estadual = estadual.loc[19]\n",
        "internet_municipal = publica.loc[16]\n",
        "internet_privada = privada.loc[18]"
      ],
      "execution_count": null,
      "outputs": []
    },
    {
      "cell_type": "code",
      "metadata": {
        "id": "EI359s2rsiM5"
      },
      "source": [
        "df10 = pd.DataFrame(internet_estadual)\n",
        "df11 = pd.DataFrame(internet_municipal)\n",
        "df12 = pd.DataFrame(internet_privada)\n",
        "df10 = df10.rename(columns={19:'Valores(%)'})\n",
        "df11 = df11.rename(columns={16:'Valores(%)'})\n",
        "df12 = df12.rename(columns={18:'Valores(%)'})"
      ],
      "execution_count": null,
      "outputs": []
    },
    {
      "cell_type": "code",
      "metadata": {
        "id": "UawuXfVM32kh"
      },
      "source": [
        "frames_3 = [df10, df11, df12]\n",
        "resultado_4 = pd.concat(frames_3)\n",
        "resultado_4.reset_index(level=0, inplace=True)\n",
        "resultado_4 = resultado_4.drop(resultado_4.index[[0, 1, 4, 5, 8, 9]])\n"
      ],
      "execution_count": null,
      "outputs": []
    },
    {
      "cell_type": "code",
      "metadata": {
        "colab": {
          "base_uri": "https://localhost:8080/"
        },
        "id": "-V_stPzj_IvW",
        "outputId": "b0f6226a-3f46-4434-8f9a-0b6fe673edcc"
      },
      "source": [
        "resultado_4"
      ],
      "execution_count": null,
      "outputs": [
        {
          "output_type": "execute_result",
          "data": {
            "text/html": [
              "<div>\n",
              "<style scoped>\n",
              "    .dataframe tbody tr th:only-of-type {\n",
              "        vertical-align: middle;\n",
              "    }\n",
              "\n",
              "    .dataframe tbody tr th {\n",
              "        vertical-align: top;\n",
              "    }\n",
              "\n",
              "    .dataframe thead th {\n",
              "        text-align: right;\n",
              "    }\n",
              "</style>\n",
              "<table border=\"1\" class=\"dataframe\">\n",
              "  <thead>\n",
              "    <tr style=\"text-align: right;\">\n",
              "      <th></th>\n",
              "      <th>index</th>\n",
              "      <th>Valores(%)</th>\n",
              "    </tr>\n",
              "  </thead>\n",
              "  <tbody>\n",
              "    <tr>\n",
              "      <th>2</th>\n",
              "      <td>Urbana_estadual</td>\n",
              "      <td>89,3%</td>\n",
              "    </tr>\n",
              "    <tr>\n",
              "      <th>3</th>\n",
              "      <td>Rural_estadual</td>\n",
              "      <td>40,8%</td>\n",
              "    </tr>\n",
              "    <tr>\n",
              "      <th>6</th>\n",
              "      <td>Urbana_municipal</td>\n",
              "      <td>89,5%</td>\n",
              "    </tr>\n",
              "    <tr>\n",
              "      <th>7</th>\n",
              "      <td>Rural_municipal</td>\n",
              "      <td>42,7%</td>\n",
              "    </tr>\n",
              "    <tr>\n",
              "      <th>10</th>\n",
              "      <td>Urbana_privada</td>\n",
              "      <td>98,1%</td>\n",
              "    </tr>\n",
              "    <tr>\n",
              "      <th>11</th>\n",
              "      <td>Rural_privada</td>\n",
              "      <td>53,6%</td>\n",
              "    </tr>\n",
              "  </tbody>\n",
              "</table>\n",
              "</div>"
            ],
            "text/plain": [
              "               index Valores(%)\n",
              "2    Urbana_estadual      89,3%\n",
              "3     Rural_estadual      40,8%\n",
              "6   Urbana_municipal      89,5%\n",
              "7    Rural_municipal      42,7%\n",
              "10    Urbana_privada      98,1%\n",
              "11     Rural_privada      53,6%"
            ]
          },
          "metadata": {},
          "execution_count": 181
        }
      ]
    },
    {
      "cell_type": "code",
      "metadata": {
        "colab": {
          "base_uri": "https://localhost:8080/"
        },
        "id": "fd_6LiE9s_Uk",
        "outputId": "e3728227-07d7-47b6-fea8-8d6a445e332c"
      },
      "source": [
        "resultado_4 = resultado_4.rename(columns={'index':'Tipo_escola'})\n",
        "resultado_4['Valores(%)'] = resultado_4['Valores(%)'].apply(troca_sinal)\n",
        "resultado_4['Valores(%)'] = resultado_4['Valores(%)'].astype(float)\n",
        "resultado_4 = resultado_4.reset_index()\n",
        "resultado_4"
      ],
      "execution_count": null,
      "outputs": [
        {
          "output_type": "execute_result",
          "data": {
            "text/html": [
              "<div>\n",
              "<style scoped>\n",
              "    .dataframe tbody tr th:only-of-type {\n",
              "        vertical-align: middle;\n",
              "    }\n",
              "\n",
              "    .dataframe tbody tr th {\n",
              "        vertical-align: top;\n",
              "    }\n",
              "\n",
              "    .dataframe thead th {\n",
              "        text-align: right;\n",
              "    }\n",
              "</style>\n",
              "<table border=\"1\" class=\"dataframe\">\n",
              "  <thead>\n",
              "    <tr style=\"text-align: right;\">\n",
              "      <th></th>\n",
              "      <th>index</th>\n",
              "      <th>Tipo_escola</th>\n",
              "      <th>Valores(%)</th>\n",
              "    </tr>\n",
              "  </thead>\n",
              "  <tbody>\n",
              "    <tr>\n",
              "      <th>0</th>\n",
              "      <td>2</td>\n",
              "      <td>Urbana_estadual</td>\n",
              "      <td>89.3</td>\n",
              "    </tr>\n",
              "    <tr>\n",
              "      <th>1</th>\n",
              "      <td>3</td>\n",
              "      <td>Rural_estadual</td>\n",
              "      <td>40.8</td>\n",
              "    </tr>\n",
              "    <tr>\n",
              "      <th>2</th>\n",
              "      <td>6</td>\n",
              "      <td>Urbana_municipal</td>\n",
              "      <td>89.5</td>\n",
              "    </tr>\n",
              "    <tr>\n",
              "      <th>3</th>\n",
              "      <td>7</td>\n",
              "      <td>Rural_municipal</td>\n",
              "      <td>42.7</td>\n",
              "    </tr>\n",
              "    <tr>\n",
              "      <th>4</th>\n",
              "      <td>10</td>\n",
              "      <td>Urbana_privada</td>\n",
              "      <td>98.1</td>\n",
              "    </tr>\n",
              "    <tr>\n",
              "      <th>5</th>\n",
              "      <td>11</td>\n",
              "      <td>Rural_privada</td>\n",
              "      <td>53.6</td>\n",
              "    </tr>\n",
              "  </tbody>\n",
              "</table>\n",
              "</div>"
            ],
            "text/plain": [
              "   index       Tipo_escola  Valores(%)\n",
              "0      2   Urbana_estadual        89.3\n",
              "1      3    Rural_estadual        40.8\n",
              "2      6  Urbana_municipal        89.5\n",
              "3      7   Rural_municipal        42.7\n",
              "4     10    Urbana_privada        98.1\n",
              "5     11     Rural_privada        53.6"
            ]
          },
          "metadata": {},
          "execution_count": 182
        }
      ]
    },
    {
      "cell_type": "code",
      "metadata": {
        "colab": {
          "base_uri": "https://localhost:8080/"
        },
        "id": "D36K1loMtbbF",
        "outputId": "a1b31ed2-a172-4ab7-d32f-0798a2b87289"
      },
      "source": [
        "ax = plt.figure(figsize=(12, 6))\n",
        "fig_4 = sns.barplot(x='Tipo_escola', y='Valores(%)', data=resultado_4.sort_values('Valores(%)', ascending=False), ci=False)\n",
        "for i in fig_4.patches:\n",
        "  fig_4.annotate(i.get_height(), (i.get_x() + i.get_width() / 2, i.get_height())\n",
        "  , ha='center', va='baseline', fontsize=12, color='black', xytext=(0,1), \n",
        "  textcoords='offset points')\n",
        "fig_4.set_title('Escolas com acesso a internet', fontsize= 18)\n",
        "ax=ax"
      ],
      "execution_count": null,
      "outputs": [
        {
          "output_type": "display_data",
          "data": {
            "image/png": "[encoded data removed]",
            "text/plain": [
              "<Figure size 864x432 with 1 Axes>"
            ]
          },
          "metadata": {
            "needs_background": "light"
          }
        }
      ]
    },
    {
      "cell_type": "code",
      "metadata": {
        "id": "FRbIfOO8Al6N"
      },
      "source": [
        "fig_4.get_figure().savefig('Figura_4.png')"
      ],
      "execution_count": null,
      "outputs": []
    },
    {
      "cell_type": "markdown",
      "metadata": {
        "id": "s2FSrBtwohfv"
      },
      "source": [
        "## Para os Alunos"
      ]
    },
    {
      "cell_type": "code",
      "metadata": {
        "id": "yMefA6PftZKO"
      },
      "source": [
        "aluno_estadual = estadual.loc[21]\n",
        "aluno_municipal = publica.loc[18]\n",
        "aluno_privada = privada.loc[20]"
      ],
      "execution_count": null,
      "outputs": []
    },
    {
      "cell_type": "code",
      "metadata": {
        "id": "afaUobZgrfL8"
      },
      "source": [
        "df13 = pd.DataFrame(internet_estadual)\n",
        "df14 = pd.DataFrame(internet_municipal)\n",
        "df15 = pd.DataFrame(internet_privada)\n",
        "df13 = df13.rename(columns={21:'Valores(%)'})\n",
        "df14 = df14.rename(columns={18:'Valores(%)'})\n",
        "df15 = df15.rename(columns={20:'Valores(%)'})"
      ],
      "execution_count": null,
      "outputs": []
    },
    {
      "cell_type": "code",
      "metadata": {
        "colab": {
          "base_uri": "https://localhost:8080/"
        },
        "id": "uBg_lcDzC3_J",
        "outputId": "ec100e93-4196-4e29-ddbb-779d60616650"
      },
      "source": [
        "df13"
      ],
      "execution_count": null,
      "outputs": [
        {
          "output_type": "execute_result",
          "data": {
            "text/html": [
              "<div>\n",
              "<style scoped>\n",
              "    .dataframe tbody tr th:only-of-type {\n",
              "        vertical-align: middle;\n",
              "    }\n",
              "\n",
              "    .dataframe tbody tr th {\n",
              "        vertical-align: top;\n",
              "    }\n",
              "\n",
              "    .dataframe thead th {\n",
              "        text-align: right;\n",
              "    }\n",
              "</style>\n",
              "<table border=\"1\" class=\"dataframe\">\n",
              "  <thead>\n",
              "    <tr style=\"text-align: right;\">\n",
              "      <th></th>\n",
              "      <th>Valores(%)</th>\n",
              "    </tr>\n",
              "  </thead>\n",
              "  <tbody>\n",
              "    <tr>\n",
              "      <th>Indicador</th>\n",
              "      <td>Int. p/ alunos (%)</td>\n",
              "    </tr>\n",
              "    <tr>\n",
              "      <th>Total</th>\n",
              "      <td>28,5%</td>\n",
              "    </tr>\n",
              "    <tr>\n",
              "      <th>Urbana_estadual</th>\n",
              "      <td>38,7%</td>\n",
              "    </tr>\n",
              "    <tr>\n",
              "      <th>Rural_estadual</th>\n",
              "      <td>11,2%</td>\n",
              "    </tr>\n",
              "  </tbody>\n",
              "</table>\n",
              "</div>"
            ],
            "text/plain": [
              "                         Valores(%)\n",
              "Indicador        Int. p/ alunos (%)\n",
              "Total                         28,5%\n",
              "Urbana_estadual               38,7%\n",
              "Rural_estadual                11,2%"
            ]
          },
          "metadata": {},
          "execution_count": 192
        }
      ]
    },
    {
      "cell_type": "code",
      "metadata": {
        "id": "CZaPde-ZCkDG"
      },
      "source": [
        "frames_4 = [df13, df14, df15]\n",
        "resultado_5 = pd.concat(frames_4)\n",
        "resultado_5.reset_index(level=0, inplace=True)\n",
        "resultado_5 = resultado_5.drop(resultado_5.index[[0, 1, 4, 5, 8, 9]])"
      ],
      "execution_count": null,
      "outputs": []
    },
    {
      "cell_type": "code",
      "metadata": {
        "colab": {
          "base_uri": "https://localhost:8080/"
        },
        "id": "HSSlvyBvDZVH",
        "outputId": "a3024bc5-d3c5-4aee-ac97-9bd9e9b7bdd4"
      },
      "source": [
        "resultado_5 = resultado_5.rename(columns={'index':'Tipo_escola'})\n",
        "resultado_5['Valores(%)'] = resultado_5['Valores(%)'].apply(troca_sinal)\n",
        "resultado_5['Valores(%)'] = resultado_5['Valores(%)'].astype(float)\n",
        "resultado_5 = resultado_5.reset_index()\n",
        "resultado_5"
      ],
      "execution_count": null,
      "outputs": [
        {
          "output_type": "execute_result",
          "data": {
            "text/html": [
              "<div>\n",
              "<style scoped>\n",
              "    .dataframe tbody tr th:only-of-type {\n",
              "        vertical-align: middle;\n",
              "    }\n",
              "\n",
              "    .dataframe tbody tr th {\n",
              "        vertical-align: top;\n",
              "    }\n",
              "\n",
              "    .dataframe thead th {\n",
              "        text-align: right;\n",
              "    }\n",
              "</style>\n",
              "<table border=\"1\" class=\"dataframe\">\n",
              "  <thead>\n",
              "    <tr style=\"text-align: right;\">\n",
              "      <th></th>\n",
              "      <th>index</th>\n",
              "      <th>Tipo_escola</th>\n",
              "      <th>Valores(%)</th>\n",
              "    </tr>\n",
              "  </thead>\n",
              "  <tbody>\n",
              "    <tr>\n",
              "      <th>0</th>\n",
              "      <td>2</td>\n",
              "      <td>Urbana_estadual</td>\n",
              "      <td>38.7</td>\n",
              "    </tr>\n",
              "    <tr>\n",
              "      <th>1</th>\n",
              "      <td>3</td>\n",
              "      <td>Rural_estadual</td>\n",
              "      <td>11.2</td>\n",
              "    </tr>\n",
              "    <tr>\n",
              "      <th>2</th>\n",
              "      <td>6</td>\n",
              "      <td>Urbana_municipal</td>\n",
              "      <td>41.2</td>\n",
              "    </tr>\n",
              "    <tr>\n",
              "      <th>3</th>\n",
              "      <td>7</td>\n",
              "      <td>Rural_municipal</td>\n",
              "      <td>13.4</td>\n",
              "    </tr>\n",
              "    <tr>\n",
              "      <th>4</th>\n",
              "      <td>10</td>\n",
              "      <td>Urbana_privada</td>\n",
              "      <td>52.8</td>\n",
              "    </tr>\n",
              "    <tr>\n",
              "      <th>5</th>\n",
              "      <td>11</td>\n",
              "      <td>Rural_privada</td>\n",
              "      <td>32.1</td>\n",
              "    </tr>\n",
              "  </tbody>\n",
              "</table>\n",
              "</div>"
            ],
            "text/plain": [
              "   index       Tipo_escola  Valores(%)\n",
              "0      2   Urbana_estadual        38.7\n",
              "1      3    Rural_estadual        11.2\n",
              "2      6  Urbana_municipal        41.2\n",
              "3      7   Rural_municipal        13.4\n",
              "4     10    Urbana_privada        52.8\n",
              "5     11     Rural_privada        32.1"
            ]
          },
          "metadata": {},
          "execution_count": 197
        }
      ]
    },
    {
      "cell_type": "code",
      "metadata": {
        "colab": {
          "base_uri": "https://localhost:8080/"
        },
        "id": "S5sBaCmiDG7U",
        "outputId": "15fc6f89-3b56-46b6-e377-73b6cc3d15fb"
      },
      "source": [
        "ax = plt.figure(figsize=(12, 6))\n",
        "fig_5 = sns.barplot(x='Tipo_escola', y='Valores(%)', data=resultado_5.sort_values('Valores(%)', ascending=False), ci=False)\n",
        "for i in fig_5.patches:\n",
        "  fig_5.annotate(i.get_height(), (i.get_x() + i.get_width() / 2, i.get_height())\n",
        "  , ha='center', va='baseline', fontsize=12, color='black', xytext=(0,1), \n",
        "  textcoords='offset points')\n",
        "fig_5.set_title('Escolas com acesso a internet para os alunos', fontsize= 18)\n",
        "ax=ax"
      ],
      "execution_count": null,
      "outputs": [
        {
          "output_type": "display_data",
          "data": {
            "image/png": "[encoded data removed]",
            "text/plain": [
              "<Figure size 864x432 with 1 Axes>"
            ]
          },
          "metadata": {
            "needs_background": "light"
          }
        }
      ]
    },
    {
      "cell_type": "code",
      "metadata": {
        "id": "uv9wm_qjDnhA"
      },
      "source": [
        "fig_5.get_figure().savefig('Figura_5.png')"
      ],
      "execution_count": null,
      "outputs": []
    },
    {
      "cell_type": "markdown",
      "metadata": {
        "id": "wtElxGGhonn1"
      },
      "source": [
        "# Ensino"
      ]
    },
    {
      "cell_type": "code",
      "metadata": {
        "id": "r42A-eRhoouM"
      },
      "source": [
        ""
      ],
      "execution_count": null,
      "outputs": []
    },
    {
      "cell_type": "markdown",
      "metadata": {
        "id": "a5BURnUvop9o"
      },
      "source": [
        "## Multímídia "
      ]
    },
    {
      "cell_type": "code",
      "metadata": {
        "id": "_7Ubl_6ZouML"
      },
      "source": [
        ""
      ],
      "execution_count": null,
      "outputs": []
    },
    {
      "cell_type": "markdown",
      "metadata": {
        "id": "DIYrIx3JowQ4"
      },
      "source": [
        "## PC/Tablet"
      ]
    },
    {
      "cell_type": "markdown",
      "metadata": {
        "id": "rNuLb_fjowNV"
      },
      "source": [
        "# Teste de Hipótese"
      ]
    },
    {
      "cell_type": "markdown",
      "metadata": {
        "id": "GcqGac_xGb7s"
      },
      "source": [
        "## H<sup>null</sup>\n",
        "**Estudantes de escolas particulares não têm menor distorção idade-série**\n",
        "\n",
        "## H<sup>alt</sup>\n",
        "**Estudantes de escolas particulares não têm menor distorção idade-série**"
      ]
    },
    {
      "cell_type": "code",
      "metadata": {
        "colab": {
          "base_uri": "https://localhost:8080/",
          "height": 235
        },
        "id": "KESyHGuLJBb1",
        "outputId": "28552e7a-e47e-4631-db99-09fab9eb99ab"
      },
      "source": [
        "resultado_2"
      ],
      "execution_count": null,
      "outputs": [
        {
          "output_type": "execute_result",
          "data": {
            "text/html": [
              "<div>\n",
              "<style scoped>\n",
              "    .dataframe tbody tr th:only-of-type {\n",
              "        vertical-align: middle;\n",
              "    }\n",
              "\n",
              "    .dataframe tbody tr th {\n",
              "        vertical-align: top;\n",
              "    }\n",
              "\n",
              "    .dataframe thead th {\n",
              "        text-align: right;\n",
              "    }\n",
              "</style>\n",
              "<table border=\"1\" class=\"dataframe\">\n",
              "  <thead>\n",
              "    <tr style=\"text-align: right;\">\n",
              "      <th></th>\n",
              "      <th>Tipo_escola</th>\n",
              "      <th>Valores(%)</th>\n",
              "    </tr>\n",
              "  </thead>\n",
              "  <tbody>\n",
              "    <tr>\n",
              "      <th>2</th>\n",
              "      <td>Urbana_estadual</td>\n",
              "      <td>28.9</td>\n",
              "    </tr>\n",
              "    <tr>\n",
              "      <th>3</th>\n",
              "      <td>Rural_estadual</td>\n",
              "      <td>42.3</td>\n",
              "    </tr>\n",
              "    <tr>\n",
              "      <th>6</th>\n",
              "      <td>Urbana_municipal</td>\n",
              "      <td>28.4</td>\n",
              "    </tr>\n",
              "    <tr>\n",
              "      <th>7</th>\n",
              "      <td>Rural_municipal</td>\n",
              "      <td>41.3</td>\n",
              "    </tr>\n",
              "    <tr>\n",
              "      <th>10</th>\n",
              "      <td>Urbana_privada</td>\n",
              "      <td>9.5</td>\n",
              "    </tr>\n",
              "    <tr>\n",
              "      <th>11</th>\n",
              "      <td>Rural_privada</td>\n",
              "      <td>38.4</td>\n",
              "    </tr>\n",
              "  </tbody>\n",
              "</table>\n",
              "</div>"
            ],
            "text/plain": [
              "         Tipo_escola  Valores(%)\n",
              "2    Urbana_estadual        28.9\n",
              "3     Rural_estadual        42.3\n",
              "6   Urbana_municipal        28.4\n",
              "7    Rural_municipal        41.3\n",
              "10    Urbana_privada         9.5\n",
              "11     Rural_privada        38.4"
            ]
          },
          "metadata": {},
          "execution_count": 202
        }
      ]
    },
    {
      "cell_type": "markdown",
      "metadata": {
        "id": "G9GfrCgFJnqc"
      },
      "source": [
        "## H<sup>null</sup>\n",
        "**Escolas com maiores AFD têm menor distorção idade série**\n",
        "\n",
        "## H<sup>alt</sup>\n",
        "**Escolas com maiores AFD não têm menor distorção idade série**\n"
      ]
    },
    {
      "cell_type": "code",
      "metadata": {
        "id": "KA-0lJZIJnWt"
      },
      "source": [
        ""
      ],
      "execution_count": null,
      "outputs": []
    }
  ]
}